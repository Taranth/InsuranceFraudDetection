{
 "cells": [
  {
   "cell_type": "code",
   "execution_count": 1,
   "id": "cd98c4c0-c93c-41a8-8892-e6557db2ab4b",
   "metadata": {},
   "outputs": [],
   "source": [
    "import pandas as pd\n",
    "import numpy as np"
   ]
  },
  {
   "cell_type": "code",
   "execution_count": 2,
   "id": "3cc8d100-8981-472c-9829-292cb076a939",
   "metadata": {},
   "outputs": [],
   "source": [
    "data = pd.read_csv(\"C:/Users/navee/OneDrive/Desktop/Books/Data Mining/Project/insurance_claims.csv\")"
   ]
  },
  {
   "cell_type": "code",
   "execution_count": 3,
   "id": "7a82942f-c3ad-449e-8de0-30972ac7784b",
   "metadata": {},
   "outputs": [
    {
     "data": {
      "text/html": [
       "<div>\n",
       "<style scoped>\n",
       "    .dataframe tbody tr th:only-of-type {\n",
       "        vertical-align: middle;\n",
       "    }\n",
       "\n",
       "    .dataframe tbody tr th {\n",
       "        vertical-align: top;\n",
       "    }\n",
       "\n",
       "    .dataframe thead th {\n",
       "        text-align: right;\n",
       "    }\n",
       "</style>\n",
       "<table border=\"1\" class=\"dataframe\">\n",
       "  <thead>\n",
       "    <tr style=\"text-align: right;\">\n",
       "      <th></th>\n",
       "      <th>months_as_customer</th>\n",
       "      <th>age</th>\n",
       "      <th>policy_number</th>\n",
       "      <th>policy_bind_date</th>\n",
       "      <th>policy_state</th>\n",
       "      <th>policy_csl</th>\n",
       "      <th>policy_deductable</th>\n",
       "      <th>policy_annual_premium</th>\n",
       "      <th>umbrella_limit</th>\n",
       "      <th>insured_zip</th>\n",
       "      <th>...</th>\n",
       "      <th>witnesses</th>\n",
       "      <th>police_report_available</th>\n",
       "      <th>total_claim_amount</th>\n",
       "      <th>injury_claim</th>\n",
       "      <th>property_claim</th>\n",
       "      <th>vehicle_claim</th>\n",
       "      <th>auto_make</th>\n",
       "      <th>auto_model</th>\n",
       "      <th>auto_year</th>\n",
       "      <th>fraud_reported</th>\n",
       "    </tr>\n",
       "  </thead>\n",
       "  <tbody>\n",
       "    <tr>\n",
       "      <th>0</th>\n",
       "      <td>328</td>\n",
       "      <td>48</td>\n",
       "      <td>521585</td>\n",
       "      <td>10/17/2014</td>\n",
       "      <td>OH</td>\n",
       "      <td>250/500</td>\n",
       "      <td>1000</td>\n",
       "      <td>1406.91</td>\n",
       "      <td>0</td>\n",
       "      <td>466132</td>\n",
       "      <td>...</td>\n",
       "      <td>2</td>\n",
       "      <td>YES</td>\n",
       "      <td>71610</td>\n",
       "      <td>6510</td>\n",
       "      <td>13020</td>\n",
       "      <td>52080</td>\n",
       "      <td>Saab</td>\n",
       "      <td>92x</td>\n",
       "      <td>2004</td>\n",
       "      <td>Y</td>\n",
       "    </tr>\n",
       "    <tr>\n",
       "      <th>1</th>\n",
       "      <td>228</td>\n",
       "      <td>42</td>\n",
       "      <td>342868</td>\n",
       "      <td>6/27/2006</td>\n",
       "      <td>IN</td>\n",
       "      <td>250/500</td>\n",
       "      <td>2000</td>\n",
       "      <td>1197.22</td>\n",
       "      <td>5000000</td>\n",
       "      <td>468176</td>\n",
       "      <td>...</td>\n",
       "      <td>0</td>\n",
       "      <td>?</td>\n",
       "      <td>5070</td>\n",
       "      <td>780</td>\n",
       "      <td>780</td>\n",
       "      <td>3510</td>\n",
       "      <td>Mercedes</td>\n",
       "      <td>E400</td>\n",
       "      <td>2007</td>\n",
       "      <td>Y</td>\n",
       "    </tr>\n",
       "    <tr>\n",
       "      <th>2</th>\n",
       "      <td>134</td>\n",
       "      <td>29</td>\n",
       "      <td>687698</td>\n",
       "      <td>9/6/2000</td>\n",
       "      <td>OH</td>\n",
       "      <td>100/300</td>\n",
       "      <td>2000</td>\n",
       "      <td>1413.14</td>\n",
       "      <td>5000000</td>\n",
       "      <td>430632</td>\n",
       "      <td>...</td>\n",
       "      <td>3</td>\n",
       "      <td>NO</td>\n",
       "      <td>34650</td>\n",
       "      <td>7700</td>\n",
       "      <td>3850</td>\n",
       "      <td>23100</td>\n",
       "      <td>Dodge</td>\n",
       "      <td>RAM</td>\n",
       "      <td>2007</td>\n",
       "      <td>N</td>\n",
       "    </tr>\n",
       "    <tr>\n",
       "      <th>3</th>\n",
       "      <td>256</td>\n",
       "      <td>41</td>\n",
       "      <td>227811</td>\n",
       "      <td>5/25/1990</td>\n",
       "      <td>IL</td>\n",
       "      <td>250/500</td>\n",
       "      <td>2000</td>\n",
       "      <td>1415.74</td>\n",
       "      <td>6000000</td>\n",
       "      <td>608117</td>\n",
       "      <td>...</td>\n",
       "      <td>2</td>\n",
       "      <td>NO</td>\n",
       "      <td>63400</td>\n",
       "      <td>6340</td>\n",
       "      <td>6340</td>\n",
       "      <td>50720</td>\n",
       "      <td>Chevrolet</td>\n",
       "      <td>Tahoe</td>\n",
       "      <td>2014</td>\n",
       "      <td>Y</td>\n",
       "    </tr>\n",
       "    <tr>\n",
       "      <th>4</th>\n",
       "      <td>228</td>\n",
       "      <td>44</td>\n",
       "      <td>367455</td>\n",
       "      <td>6/6/2014</td>\n",
       "      <td>IL</td>\n",
       "      <td>500/1000</td>\n",
       "      <td>1000</td>\n",
       "      <td>1583.91</td>\n",
       "      <td>6000000</td>\n",
       "      <td>610706</td>\n",
       "      <td>...</td>\n",
       "      <td>1</td>\n",
       "      <td>NO</td>\n",
       "      <td>6500</td>\n",
       "      <td>1300</td>\n",
       "      <td>650</td>\n",
       "      <td>4550</td>\n",
       "      <td>Accura</td>\n",
       "      <td>RSX</td>\n",
       "      <td>2009</td>\n",
       "      <td>N</td>\n",
       "    </tr>\n",
       "  </tbody>\n",
       "</table>\n",
       "<p>5 rows × 39 columns</p>\n",
       "</div>"
      ],
      "text/plain": [
       "   months_as_customer  age  policy_number policy_bind_date policy_state  \\\n",
       "0                 328   48         521585       10/17/2014           OH   \n",
       "1                 228   42         342868        6/27/2006           IN   \n",
       "2                 134   29         687698         9/6/2000           OH   \n",
       "3                 256   41         227811        5/25/1990           IL   \n",
       "4                 228   44         367455         6/6/2014           IL   \n",
       "\n",
       "  policy_csl  policy_deductable  policy_annual_premium  umbrella_limit  \\\n",
       "0    250/500               1000                1406.91               0   \n",
       "1    250/500               2000                1197.22         5000000   \n",
       "2    100/300               2000                1413.14         5000000   \n",
       "3    250/500               2000                1415.74         6000000   \n",
       "4   500/1000               1000                1583.91         6000000   \n",
       "\n",
       "   insured_zip  ... witnesses police_report_available total_claim_amount  \\\n",
       "0       466132  ...         2                     YES              71610   \n",
       "1       468176  ...         0                       ?               5070   \n",
       "2       430632  ...         3                      NO              34650   \n",
       "3       608117  ...         2                      NO              63400   \n",
       "4       610706  ...         1                      NO               6500   \n",
       "\n",
       "  injury_claim property_claim  vehicle_claim  auto_make auto_model auto_year  \\\n",
       "0         6510          13020          52080       Saab        92x      2004   \n",
       "1          780            780           3510   Mercedes       E400      2007   \n",
       "2         7700           3850          23100      Dodge        RAM      2007   \n",
       "3         6340           6340          50720  Chevrolet      Tahoe      2014   \n",
       "4         1300            650           4550     Accura        RSX      2009   \n",
       "\n",
       "  fraud_reported  \n",
       "0              Y  \n",
       "1              Y  \n",
       "2              N  \n",
       "3              Y  \n",
       "4              N  \n",
       "\n",
       "[5 rows x 39 columns]"
      ]
     },
     "execution_count": 3,
     "metadata": {},
     "output_type": "execute_result"
    }
   ],
   "source": [
    "data.head()"
   ]
  },
  {
   "cell_type": "code",
   "execution_count": 4,
   "id": "4bf0a56a-7919-4f1f-a04e-97c827fe8996",
   "metadata": {},
   "outputs": [
    {
     "name": "stdout",
     "output_type": "stream",
     "text": [
      "<class 'pandas.core.frame.DataFrame'>\n",
      "RangeIndex: 1000 entries, 0 to 999\n",
      "Data columns (total 39 columns):\n",
      " #   Column                       Non-Null Count  Dtype  \n",
      "---  ------                       --------------  -----  \n",
      " 0   months_as_customer           1000 non-null   int64  \n",
      " 1   age                          1000 non-null   int64  \n",
      " 2   policy_number                1000 non-null   int64  \n",
      " 3   policy_bind_date             1000 non-null   object \n",
      " 4   policy_state                 1000 non-null   object \n",
      " 5   policy_csl                   1000 non-null   object \n",
      " 6   policy_deductable            1000 non-null   int64  \n",
      " 7   policy_annual_premium        1000 non-null   float64\n",
      " 8   umbrella_limit               1000 non-null   int64  \n",
      " 9   insured_zip                  1000 non-null   int64  \n",
      " 10  insured_sex                  1000 non-null   object \n",
      " 11  insured_education_level      1000 non-null   object \n",
      " 12  insured_occupation           1000 non-null   object \n",
      " 13  insured_hobbies              1000 non-null   object \n",
      " 14  insured_relationship         1000 non-null   object \n",
      " 15  capital-gains                1000 non-null   int64  \n",
      " 16  capital-loss                 1000 non-null   int64  \n",
      " 17  incident_date                1000 non-null   object \n",
      " 18  incident_type                1000 non-null   object \n",
      " 19  collision_type               1000 non-null   object \n",
      " 20  incident_severity            1000 non-null   object \n",
      " 21  authorities_contacted        909 non-null    object \n",
      " 22  incident_state               1000 non-null   object \n",
      " 23  incident_city                1000 non-null   object \n",
      " 24  incident_location            1000 non-null   object \n",
      " 25  incident_hour_of_the_day     1000 non-null   int64  \n",
      " 26  number_of_vehicles_involved  1000 non-null   int64  \n",
      " 27  property_damage              1000 non-null   object \n",
      " 28  bodily_injuries              1000 non-null   int64  \n",
      " 29  witnesses                    1000 non-null   int64  \n",
      " 30  police_report_available      1000 non-null   object \n",
      " 31  total_claim_amount           1000 non-null   int64  \n",
      " 32  injury_claim                 1000 non-null   int64  \n",
      " 33  property_claim               1000 non-null   int64  \n",
      " 34  vehicle_claim                1000 non-null   int64  \n",
      " 35  auto_make                    1000 non-null   object \n",
      " 36  auto_model                   1000 non-null   object \n",
      " 37  auto_year                    1000 non-null   int64  \n",
      " 38  fraud_reported               1000 non-null   object \n",
      "dtypes: float64(1), int64(17), object(21)\n",
      "memory usage: 304.8+ KB\n"
     ]
    }
   ],
   "source": [
    "data.info()"
   ]
  },
  {
   "cell_type": "code",
   "execution_count": 5,
   "id": "3040c69d-e928-45d7-9590-c10e9d3287c5",
   "metadata": {},
   "outputs": [
    {
     "data": {
      "text/plain": [
       "months_as_customer              0\n",
       "age                             0\n",
       "policy_number                   0\n",
       "policy_bind_date                0\n",
       "policy_state                    0\n",
       "policy_csl                      0\n",
       "policy_deductable               0\n",
       "policy_annual_premium           0\n",
       "umbrella_limit                  0\n",
       "insured_zip                     0\n",
       "insured_sex                     0\n",
       "insured_education_level         0\n",
       "insured_occupation              0\n",
       "insured_hobbies                 0\n",
       "insured_relationship            0\n",
       "capital-gains                   0\n",
       "capital-loss                    0\n",
       "incident_date                   0\n",
       "incident_type                   0\n",
       "collision_type                  0\n",
       "incident_severity               0\n",
       "authorities_contacted          91\n",
       "incident_state                  0\n",
       "incident_city                   0\n",
       "incident_location               0\n",
       "incident_hour_of_the_day        0\n",
       "number_of_vehicles_involved     0\n",
       "property_damage                 0\n",
       "bodily_injuries                 0\n",
       "witnesses                       0\n",
       "police_report_available         0\n",
       "total_claim_amount              0\n",
       "injury_claim                    0\n",
       "property_claim                  0\n",
       "vehicle_claim                   0\n",
       "auto_make                       0\n",
       "auto_model                      0\n",
       "auto_year                       0\n",
       "fraud_reported                  0\n",
       "dtype: int64"
      ]
     },
     "execution_count": 5,
     "metadata": {},
     "output_type": "execute_result"
    }
   ],
   "source": [
    "data.isnull().sum()"
   ]
  },
  {
   "cell_type": "code",
   "execution_count": 6,
   "id": "84438748-1652-4982-b450-7ffb8c01873e",
   "metadata": {},
   "outputs": [],
   "source": [
    "data = data.dropna()"
   ]
  },
  {
   "cell_type": "code",
   "execution_count": 7,
   "id": "421b7ee2-6c59-4db5-844b-ff78e315795c",
   "metadata": {},
   "outputs": [
    {
     "data": {
      "text/plain": [
       "(909, 39)"
      ]
     },
     "execution_count": 7,
     "metadata": {},
     "output_type": "execute_result"
    }
   ],
   "source": [
    "data.shape"
   ]
  },
  {
   "cell_type": "markdown",
   "id": "c333fbf3-9e47-489e-bd5f-e4536ee93db8",
   "metadata": {},
   "source": [
    "# Seperating Numarical Data and Categorical Data into New DataFrames"
   ]
  },
  {
   "cell_type": "code",
   "execution_count": 8,
   "id": "f4d13509-7f7c-469a-853f-7580180ed77d",
   "metadata": {},
   "outputs": [],
   "source": [
    "num_data =  data.select_dtypes(include='number')\n",
    "\n",
    "cat_data = data.select_dtypes(include='object')\n",
    "\n"
   ]
  },
  {
   "cell_type": "code",
   "execution_count": 9,
   "id": "e5a888b9-ee43-4c60-beac-663a1eb80c07",
   "metadata": {},
   "outputs": [
    {
     "data": {
      "text/plain": [
       "(909, 18)"
      ]
     },
     "execution_count": 9,
     "metadata": {},
     "output_type": "execute_result"
    }
   ],
   "source": [
    "num_data.shape"
   ]
  },
  {
   "cell_type": "code",
   "execution_count": 10,
   "id": "280b3524-5465-4416-ab54-d722b7e1823f",
   "metadata": {},
   "outputs": [
    {
     "data": {
      "text/plain": [
       "(909, 21)"
      ]
     },
     "execution_count": 10,
     "metadata": {},
     "output_type": "execute_result"
    }
   ],
   "source": [
    "cat_data.shape"
   ]
  },
  {
   "cell_type": "code",
   "execution_count": 11,
   "id": "01f6881f-bf36-40af-aa02-0e218898e886",
   "metadata": {},
   "outputs": [
    {
     "data": {
      "text/plain": [
       "Index(['months_as_customer', 'age', 'policy_number', 'policy_deductable',\n",
       "       'policy_annual_premium', 'umbrella_limit', 'insured_zip',\n",
       "       'capital-gains', 'capital-loss', 'incident_hour_of_the_day',\n",
       "       'number_of_vehicles_involved', 'bodily_injuries', 'witnesses',\n",
       "       'total_claim_amount', 'injury_claim', 'property_claim', 'vehicle_claim',\n",
       "       'auto_year'],\n",
       "      dtype='object')"
      ]
     },
     "execution_count": 11,
     "metadata": {},
     "output_type": "execute_result"
    }
   ],
   "source": [
    "num_data.columns"
   ]
  },
  {
   "cell_type": "code",
   "execution_count": 12,
   "id": "9d54ef1e-9284-4d7f-8dd1-2728c40c048e",
   "metadata": {},
   "outputs": [
    {
     "data": {
      "text/plain": [
       "Index(['policy_bind_date', 'policy_state', 'policy_csl', 'insured_sex',\n",
       "       'insured_education_level', 'insured_occupation', 'insured_hobbies',\n",
       "       'insured_relationship', 'incident_date', 'incident_type',\n",
       "       'collision_type', 'incident_severity', 'authorities_contacted',\n",
       "       'incident_state', 'incident_city', 'incident_location',\n",
       "       'property_damage', 'police_report_available', 'auto_make', 'auto_model',\n",
       "       'fraud_reported'],\n",
       "      dtype='object')"
      ]
     },
     "execution_count": 12,
     "metadata": {},
     "output_type": "execute_result"
    }
   ],
   "source": [
    "cat_data.columns"
   ]
  },
  {
   "cell_type": "markdown",
   "id": "20beaf76-410f-4baf-aee1-e76b8cc5a61d",
   "metadata": {},
   "source": [
    "# Feature Selection using Chi-Square method"
   ]
  },
  {
   "cell_type": "code",
   "execution_count": 13,
   "id": "99835586-07ee-4e30-8285-4e277c58c746",
   "metadata": {},
   "outputs": [],
   "source": [
    "from scipy.stats import chi2_contingency"
   ]
  },
  {
   "cell_type": "code",
   "execution_count": 14,
   "id": "c7433bf4-8b55-4764-9e2c-a68391eafb7b",
   "metadata": {},
   "outputs": [
    {
     "name": "stdout",
     "output_type": "stream",
     "text": [
      "Chi-squared statistic for policy_state: 1.3108192680215587, p-value: 0.5192293250268278\n",
      "Chi-squared statistic for policy_csl: 1.2754851709934418, p-value: 0.528484086140152\n",
      "Chi-squared statistic for insured_sex: 1.6336009302249002, p-value: 0.20120571189214695\n",
      "Chi-squared statistic for insured_education_level: 2.0373622317555684, p-value: 0.9162305084550169\n",
      "Chi-squared statistic for insured_occupation: 17.850883038560703, p-value: 0.16326386428924106\n",
      "Chi-squared statistic for insured_hobbies: 142.66687915882625, p-value: 5.634558920096724e-21\n",
      "Chi-squared statistic for insured_relationship: 4.528401363801563, p-value: 0.4760924500934369\n",
      "Chi-squared statistic for incident_type: 11.490742047373042, p-value: 0.00934774544562435\n",
      "Chi-squared statistic for collision_type: 13.644848842771035, p-value: 0.0034306846065696715\n",
      "Chi-squared statistic for incident_severity: 235.63259327204923, p-value: 8.373783806184533e-51\n",
      "Chi-squared statistic for authorities_contacted: 8.279562949020814, p-value: 0.040573867567454534\n",
      "Chi-squared statistic for incident_state: 17.762097395873845, p-value: 0.006855058311957567\n",
      "Chi-squared statistic for incident_city: 2.911635486405243, p-value: 0.8198530358001528\n",
      "Chi-squared statistic for incident_location: 908.9999999999998, p-value: 0.48440490956302756\n",
      "Chi-squared statistic for property_damage: 7.129389144830477, p-value: 0.028305629484110122\n",
      "Chi-squared statistic for police_report_available: 0.8911287969825445, p-value: 0.6404626978244514\n",
      "Chi-squared statistic for auto_make: 12.771440320737877, p-value: 0.4656173386784681\n",
      "Chi-squared statistic for auto_model: 44.55986039001891, p-value: 0.21517505219890384\n"
     ]
    }
   ],
   "source": [
    "\n",
    "for categorical_var in ['policy_state', 'policy_csl', 'insured_sex', 'insured_education_level', 'insured_occupation', 'insured_hobbies', 'insured_relationship', 'incident_type', 'collision_type', 'incident_severity', 'authorities_contacted', 'incident_state', 'incident_city', 'incident_location', 'property_damage', 'police_report_available', 'auto_make', 'auto_model']:\n",
    "    contingency_table = pd.crosstab(cat_data[categorical_var], cat_data['fraud_reported'])\n",
    "    chi2, p, _, _ = chi2_contingency(contingency_table)\n",
    "    print(f\"Chi-squared statistic for {categorical_var}: {chi2}, p-value: {p}\")\n"
   ]
  },
  {
   "cell_type": "markdown",
   "id": "3c1260e3-892d-4178-b369-c1150e07365e",
   "metadata": {},
   "source": [
    "* If p value is less than 0.05, then we can conclude that there is a significant association with `fraud_reported`\n",
    "* If p value is greater than 0.05, then we can conclude that there is a significant association with `fraud_reported`."
   ]
  },
  {
   "cell_type": "code",
   "execution_count": 15,
   "id": "e3538599-c410-4a06-b887-60dfeb9fa36e",
   "metadata": {},
   "outputs": [],
   "source": [
    "col_remove = ['policy_state', 'policy_csl', 'insured_sex', 'insured_education_level', 'insured_hobbies', 'insured_occupation', 'incident_severity', 'insured_relationship', 'incident_city', 'incident_location', 'police_report_available', 'auto_make','auto_model']\n",
    "cat_data.drop(col_remove, axis=1, inplace = True)"
   ]
  },
  {
   "cell_type": "code",
   "execution_count": 16,
   "id": "e027a28f-84a2-4d01-800d-020e43e4563e",
   "metadata": {},
   "outputs": [
    {
     "data": {
      "text/plain": [
       "(909, 8)"
      ]
     },
     "execution_count": 16,
     "metadata": {},
     "output_type": "execute_result"
    }
   ],
   "source": [
    "cat_data.shape"
   ]
  },
  {
   "cell_type": "code",
   "execution_count": 17,
   "id": "430371ec-2257-4bb9-a17f-9af131761cec",
   "metadata": {},
   "outputs": [
    {
     "data": {
      "text/html": [
       "<div>\n",
       "<style scoped>\n",
       "    .dataframe tbody tr th:only-of-type {\n",
       "        vertical-align: middle;\n",
       "    }\n",
       "\n",
       "    .dataframe tbody tr th {\n",
       "        vertical-align: top;\n",
       "    }\n",
       "\n",
       "    .dataframe thead th {\n",
       "        text-align: right;\n",
       "    }\n",
       "</style>\n",
       "<table border=\"1\" class=\"dataframe\">\n",
       "  <thead>\n",
       "    <tr style=\"text-align: right;\">\n",
       "      <th></th>\n",
       "      <th>policy_bind_date</th>\n",
       "      <th>incident_date</th>\n",
       "      <th>incident_type</th>\n",
       "      <th>collision_type</th>\n",
       "      <th>authorities_contacted</th>\n",
       "      <th>incident_state</th>\n",
       "      <th>property_damage</th>\n",
       "      <th>fraud_reported</th>\n",
       "    </tr>\n",
       "  </thead>\n",
       "  <tbody>\n",
       "    <tr>\n",
       "      <th>0</th>\n",
       "      <td>10/17/2014</td>\n",
       "      <td>1/25/2015</td>\n",
       "      <td>Single Vehicle Collision</td>\n",
       "      <td>Side Collision</td>\n",
       "      <td>Police</td>\n",
       "      <td>SC</td>\n",
       "      <td>YES</td>\n",
       "      <td>Y</td>\n",
       "    </tr>\n",
       "    <tr>\n",
       "      <th>1</th>\n",
       "      <td>6/27/2006</td>\n",
       "      <td>1/21/2015</td>\n",
       "      <td>Vehicle Theft</td>\n",
       "      <td>?</td>\n",
       "      <td>Police</td>\n",
       "      <td>VA</td>\n",
       "      <td>?</td>\n",
       "      <td>Y</td>\n",
       "    </tr>\n",
       "    <tr>\n",
       "      <th>2</th>\n",
       "      <td>9/6/2000</td>\n",
       "      <td>2/22/2015</td>\n",
       "      <td>Multi-vehicle Collision</td>\n",
       "      <td>Rear Collision</td>\n",
       "      <td>Police</td>\n",
       "      <td>NY</td>\n",
       "      <td>NO</td>\n",
       "      <td>N</td>\n",
       "    </tr>\n",
       "    <tr>\n",
       "      <th>3</th>\n",
       "      <td>5/25/1990</td>\n",
       "      <td>1/10/2015</td>\n",
       "      <td>Single Vehicle Collision</td>\n",
       "      <td>Front Collision</td>\n",
       "      <td>Police</td>\n",
       "      <td>OH</td>\n",
       "      <td>?</td>\n",
       "      <td>Y</td>\n",
       "    </tr>\n",
       "    <tr>\n",
       "      <th>5</th>\n",
       "      <td>10/12/2006</td>\n",
       "      <td>1/2/2015</td>\n",
       "      <td>Multi-vehicle Collision</td>\n",
       "      <td>Rear Collision</td>\n",
       "      <td>Fire</td>\n",
       "      <td>SC</td>\n",
       "      <td>NO</td>\n",
       "      <td>Y</td>\n",
       "    </tr>\n",
       "  </tbody>\n",
       "</table>\n",
       "</div>"
      ],
      "text/plain": [
       "  policy_bind_date incident_date             incident_type   collision_type  \\\n",
       "0       10/17/2014     1/25/2015  Single Vehicle Collision   Side Collision   \n",
       "1        6/27/2006     1/21/2015             Vehicle Theft                ?   \n",
       "2         9/6/2000     2/22/2015   Multi-vehicle Collision   Rear Collision   \n",
       "3        5/25/1990     1/10/2015  Single Vehicle Collision  Front Collision   \n",
       "5       10/12/2006      1/2/2015   Multi-vehicle Collision   Rear Collision   \n",
       "\n",
       "  authorities_contacted incident_state property_damage fraud_reported  \n",
       "0                Police             SC             YES              Y  \n",
       "1                Police             VA               ?              Y  \n",
       "2                Police             NY              NO              N  \n",
       "3                Police             OH               ?              Y  \n",
       "5                  Fire             SC              NO              Y  "
      ]
     },
     "execution_count": 17,
     "metadata": {},
     "output_type": "execute_result"
    }
   ],
   "source": [
    "cat_data.head()"
   ]
  },
  {
   "cell_type": "code",
   "execution_count": 18,
   "id": "c0a82790-35cd-456e-8dc2-e831cf4cae13",
   "metadata": {},
   "outputs": [],
   "source": [
    "col_remove = ['policy_bind_date','incident_date']\n",
    "cat_data.drop(col_remove, axis =1, inplace = True)"
   ]
  },
  {
   "cell_type": "code",
   "execution_count": 19,
   "id": "90be892f-05dd-4cc0-a825-14fd65e4ecd9",
   "metadata": {},
   "outputs": [
    {
     "data": {
      "text/plain": [
       "(909, 6)"
      ]
     },
     "execution_count": 19,
     "metadata": {},
     "output_type": "execute_result"
    }
   ],
   "source": [
    "cat_data.shape"
   ]
  },
  {
   "cell_type": "code",
   "execution_count": 20,
   "id": "e388a9c4-fd02-4739-9d21-013cb4bc7636",
   "metadata": {},
   "outputs": [],
   "source": [
    "from sklearn.feature_selection import f_classif"
   ]
  },
  {
   "cell_type": "code",
   "execution_count": 21,
   "id": "dd34bf9b-8fde-4639-a3e1-87f78f45e5bc",
   "metadata": {},
   "outputs": [],
   "source": [
    "X = num_data\n",
    "y = data['fraud_reported']\n",
    "\n",
    "# Calculate the ANOVA F-scores and p-values\n",
    "f_scores, p_values = f_classif(X, y)\n",
    "\n",
    "# Create a DataFrame to store the results\n",
    "anova_results = pd.DataFrame({'Feature': num_data.columns, 'F-Score': f_scores, 'p-value': p_values})\n",
    "\n",
    "# Select numeric features with p-values below a significance level (e.g., 0.05)\n",
    "selected_numeric_features = anova_results[anova_results['p-value'] <= 0.25]['Feature']"
   ]
  },
  {
   "cell_type": "code",
   "execution_count": 22,
   "id": "e0abe232-a164-4af1-828a-26be49a6563d",
   "metadata": {},
   "outputs": [
    {
     "data": {
      "text/html": [
       "<div>\n",
       "<style scoped>\n",
       "    .dataframe tbody tr th:only-of-type {\n",
       "        vertical-align: middle;\n",
       "    }\n",
       "\n",
       "    .dataframe tbody tr th {\n",
       "        vertical-align: top;\n",
       "    }\n",
       "\n",
       "    .dataframe thead th {\n",
       "        text-align: right;\n",
       "    }\n",
       "</style>\n",
       "<table border=\"1\" class=\"dataframe\">\n",
       "  <thead>\n",
       "    <tr style=\"text-align: right;\">\n",
       "      <th></th>\n",
       "      <th>Feature</th>\n",
       "      <th>F-Score</th>\n",
       "      <th>p-value</th>\n",
       "    </tr>\n",
       "  </thead>\n",
       "  <tbody>\n",
       "    <tr>\n",
       "      <th>0</th>\n",
       "      <td>months_as_customer</td>\n",
       "      <td>0.305334</td>\n",
       "      <td>0.580694</td>\n",
       "    </tr>\n",
       "    <tr>\n",
       "      <th>1</th>\n",
       "      <td>age</td>\n",
       "      <td>0.113267</td>\n",
       "      <td>0.736532</td>\n",
       "    </tr>\n",
       "    <tr>\n",
       "      <th>2</th>\n",
       "      <td>policy_number</td>\n",
       "      <td>0.610264</td>\n",
       "      <td>0.434892</td>\n",
       "    </tr>\n",
       "    <tr>\n",
       "      <th>3</th>\n",
       "      <td>policy_deductable</td>\n",
       "      <td>0.280817</td>\n",
       "      <td>0.596296</td>\n",
       "    </tr>\n",
       "    <tr>\n",
       "      <th>4</th>\n",
       "      <td>policy_annual_premium</td>\n",
       "      <td>0.240867</td>\n",
       "      <td>0.623699</td>\n",
       "    </tr>\n",
       "    <tr>\n",
       "      <th>5</th>\n",
       "      <td>umbrella_limit</td>\n",
       "      <td>3.769694</td>\n",
       "      <td>0.052499</td>\n",
       "    </tr>\n",
       "    <tr>\n",
       "      <th>6</th>\n",
       "      <td>insured_zip</td>\n",
       "      <td>0.477971</td>\n",
       "      <td>0.489520</td>\n",
       "    </tr>\n",
       "    <tr>\n",
       "      <th>7</th>\n",
       "      <td>capital-gains</td>\n",
       "      <td>0.377403</td>\n",
       "      <td>0.539150</td>\n",
       "    </tr>\n",
       "    <tr>\n",
       "      <th>8</th>\n",
       "      <td>capital-loss</td>\n",
       "      <td>0.291050</td>\n",
       "      <td>0.589681</td>\n",
       "    </tr>\n",
       "    <tr>\n",
       "      <th>9</th>\n",
       "      <td>incident_hour_of_the_day</td>\n",
       "      <td>0.266131</td>\n",
       "      <td>0.606065</td>\n",
       "    </tr>\n",
       "    <tr>\n",
       "      <th>10</th>\n",
       "      <td>number_of_vehicles_involved</td>\n",
       "      <td>0.302819</td>\n",
       "      <td>0.582256</td>\n",
       "    </tr>\n",
       "    <tr>\n",
       "      <th>11</th>\n",
       "      <td>bodily_injuries</td>\n",
       "      <td>1.095044</td>\n",
       "      <td>0.295635</td>\n",
       "    </tr>\n",
       "    <tr>\n",
       "      <th>12</th>\n",
       "      <td>witnesses</td>\n",
       "      <td>2.396867</td>\n",
       "      <td>0.121927</td>\n",
       "    </tr>\n",
       "    <tr>\n",
       "      <th>13</th>\n",
       "      <td>total_claim_amount</td>\n",
       "      <td>11.143215</td>\n",
       "      <td>0.000878</td>\n",
       "    </tr>\n",
       "    <tr>\n",
       "      <th>14</th>\n",
       "      <td>injury_claim</td>\n",
       "      <td>1.339367</td>\n",
       "      <td>0.247450</td>\n",
       "    </tr>\n",
       "    <tr>\n",
       "      <th>15</th>\n",
       "      <td>property_claim</td>\n",
       "      <td>7.650182</td>\n",
       "      <td>0.005792</td>\n",
       "    </tr>\n",
       "    <tr>\n",
       "      <th>16</th>\n",
       "      <td>vehicle_claim</td>\n",
       "      <td>12.780313</td>\n",
       "      <td>0.000369</td>\n",
       "    </tr>\n",
       "    <tr>\n",
       "      <th>17</th>\n",
       "      <td>auto_year</td>\n",
       "      <td>0.080926</td>\n",
       "      <td>0.776111</td>\n",
       "    </tr>\n",
       "  </tbody>\n",
       "</table>\n",
       "</div>"
      ],
      "text/plain": [
       "                        Feature    F-Score   p-value\n",
       "0            months_as_customer   0.305334  0.580694\n",
       "1                           age   0.113267  0.736532\n",
       "2                 policy_number   0.610264  0.434892\n",
       "3             policy_deductable   0.280817  0.596296\n",
       "4         policy_annual_premium   0.240867  0.623699\n",
       "5                umbrella_limit   3.769694  0.052499\n",
       "6                   insured_zip   0.477971  0.489520\n",
       "7                 capital-gains   0.377403  0.539150\n",
       "8                  capital-loss   0.291050  0.589681\n",
       "9      incident_hour_of_the_day   0.266131  0.606065\n",
       "10  number_of_vehicles_involved   0.302819  0.582256\n",
       "11              bodily_injuries   1.095044  0.295635\n",
       "12                    witnesses   2.396867  0.121927\n",
       "13           total_claim_amount  11.143215  0.000878\n",
       "14                 injury_claim   1.339367  0.247450\n",
       "15               property_claim   7.650182  0.005792\n",
       "16                vehicle_claim  12.780313  0.000369\n",
       "17                    auto_year   0.080926  0.776111"
      ]
     },
     "execution_count": 22,
     "metadata": {},
     "output_type": "execute_result"
    }
   ],
   "source": [
    "anova_results"
   ]
  },
  {
   "cell_type": "code",
   "execution_count": 23,
   "id": "fd26e83a-7b25-40b9-b55b-b7e63f3794a5",
   "metadata": {},
   "outputs": [
    {
     "data": {
      "text/plain": [
       "5         umbrella_limit\n",
       "12             witnesses\n",
       "13    total_claim_amount\n",
       "14          injury_claim\n",
       "15        property_claim\n",
       "16         vehicle_claim\n",
       "Name: Feature, dtype: object"
      ]
     },
     "execution_count": 23,
     "metadata": {},
     "output_type": "execute_result"
    }
   ],
   "source": [
    "selected_numeric_features"
   ]
  },
  {
   "cell_type": "code",
   "execution_count": 24,
   "id": "2860738f-55af-490e-85ba-3e5a88a84544",
   "metadata": {},
   "outputs": [],
   "source": [
    "num_data = num_data[selected_numeric_features]"
   ]
  },
  {
   "cell_type": "code",
   "execution_count": 25,
   "id": "fd3adb21-86cc-43e2-9137-47b6147f1082",
   "metadata": {},
   "outputs": [
    {
     "data": {
      "text/plain": [
       "(909, 6)"
      ]
     },
     "execution_count": 25,
     "metadata": {},
     "output_type": "execute_result"
    }
   ],
   "source": [
    "num_data.shape"
   ]
  },
  {
   "cell_type": "markdown",
   "id": "5280cf53-c345-4e0b-aca8-cdbd1dbe2747",
   "metadata": {},
   "source": [
    "# Label Encoding"
   ]
  },
  {
   "cell_type": "code",
   "execution_count": 26,
   "id": "17c0c697-5ffc-4da0-896f-eb65ba56cbf6",
   "metadata": {},
   "outputs": [
    {
     "name": "stdout",
     "output_type": "stream",
     "text": [
      "Label mappings for incident_type:\n",
      "Multi-vehicle Collision: 0\n",
      "Parked Car: 1\n",
      "Single Vehicle Collision: 2\n",
      "Vehicle Theft: 3\n",
      "Label mappings for collision_type:\n",
      "?: 0\n",
      "Front Collision: 1\n",
      "Rear Collision: 2\n",
      "Side Collision: 3\n",
      "Label mappings for authorities_contacted:\n",
      "Ambulance: 0\n",
      "Fire: 1\n",
      "Other: 2\n",
      "Police: 3\n",
      "Label mappings for incident_state:\n",
      "NC: 0\n",
      "NY: 1\n",
      "OH: 2\n",
      "PA: 3\n",
      "SC: 4\n",
      "VA: 5\n",
      "WV: 6\n",
      "Label mappings for property_damage:\n",
      "?: 0\n",
      "NO: 1\n",
      "YES: 2\n",
      "Label mappings for fraud_reported:\n",
      "N: 0\n",
      "Y: 1\n"
     ]
    }
   ],
   "source": [
    "from sklearn.preprocessing import LabelEncoder\n",
    "\n",
    "label_encoder = LabelEncoder()\n",
    "\n",
    "label_mappings = {}\n",
    "\n",
    "for column in cat_data.columns:\n",
    "    cat_data[column] = label_encoder.fit_transform(cat_data[column])\n",
    "    label_mappings[column] = dict(zip(label_encoder.classes_, label_encoder.transform(label_encoder.classes_)))\n",
    "for column, mappings in label_mappings.items():\n",
    "    print(f\"Label mappings for {column}:\")\n",
    "    for category, label in mappings.items():\n",
    "        print(f\"{category}: {label}\")\n"
   ]
  },
  {
   "cell_type": "code",
   "execution_count": 27,
   "id": "dbd64099-8815-42cc-8b6a-dc4d7be76906",
   "metadata": {},
   "outputs": [
    {
     "data": {
      "text/html": [
       "<div>\n",
       "<style scoped>\n",
       "    .dataframe tbody tr th:only-of-type {\n",
       "        vertical-align: middle;\n",
       "    }\n",
       "\n",
       "    .dataframe tbody tr th {\n",
       "        vertical-align: top;\n",
       "    }\n",
       "\n",
       "    .dataframe thead th {\n",
       "        text-align: right;\n",
       "    }\n",
       "</style>\n",
       "<table border=\"1\" class=\"dataframe\">\n",
       "  <thead>\n",
       "    <tr style=\"text-align: right;\">\n",
       "      <th></th>\n",
       "      <th>incident_type</th>\n",
       "      <th>collision_type</th>\n",
       "      <th>authorities_contacted</th>\n",
       "      <th>incident_state</th>\n",
       "      <th>property_damage</th>\n",
       "      <th>fraud_reported</th>\n",
       "    </tr>\n",
       "  </thead>\n",
       "  <tbody>\n",
       "    <tr>\n",
       "      <th>0</th>\n",
       "      <td>2</td>\n",
       "      <td>3</td>\n",
       "      <td>3</td>\n",
       "      <td>4</td>\n",
       "      <td>2</td>\n",
       "      <td>1</td>\n",
       "    </tr>\n",
       "    <tr>\n",
       "      <th>1</th>\n",
       "      <td>3</td>\n",
       "      <td>0</td>\n",
       "      <td>3</td>\n",
       "      <td>5</td>\n",
       "      <td>0</td>\n",
       "      <td>1</td>\n",
       "    </tr>\n",
       "    <tr>\n",
       "      <th>2</th>\n",
       "      <td>0</td>\n",
       "      <td>2</td>\n",
       "      <td>3</td>\n",
       "      <td>1</td>\n",
       "      <td>1</td>\n",
       "      <td>0</td>\n",
       "    </tr>\n",
       "    <tr>\n",
       "      <th>3</th>\n",
       "      <td>2</td>\n",
       "      <td>1</td>\n",
       "      <td>3</td>\n",
       "      <td>2</td>\n",
       "      <td>0</td>\n",
       "      <td>1</td>\n",
       "    </tr>\n",
       "    <tr>\n",
       "      <th>5</th>\n",
       "      <td>0</td>\n",
       "      <td>2</td>\n",
       "      <td>1</td>\n",
       "      <td>4</td>\n",
       "      <td>1</td>\n",
       "      <td>1</td>\n",
       "    </tr>\n",
       "  </tbody>\n",
       "</table>\n",
       "</div>"
      ],
      "text/plain": [
       "   incident_type  collision_type  authorities_contacted  incident_state  \\\n",
       "0              2               3                      3               4   \n",
       "1              3               0                      3               5   \n",
       "2              0               2                      3               1   \n",
       "3              2               1                      3               2   \n",
       "5              0               2                      1               4   \n",
       "\n",
       "   property_damage  fraud_reported  \n",
       "0                2               1  \n",
       "1                0               1  \n",
       "2                1               0  \n",
       "3                0               1  \n",
       "5                1               1  "
      ]
     },
     "execution_count": 27,
     "metadata": {},
     "output_type": "execute_result"
    }
   ],
   "source": [
    "cat_data.head()"
   ]
  },
  {
   "cell_type": "code",
   "execution_count": 28,
   "id": "5efa4952-147a-4caa-8f8c-d3d4592d8f89",
   "metadata": {},
   "outputs": [],
   "source": [
    "combined_data = pd.concat([num_data, cat_data], axis=1)"
   ]
  },
  {
   "cell_type": "code",
   "execution_count": 29,
   "id": "f0857444-a7fe-4d68-94be-b0413eae62ed",
   "metadata": {},
   "outputs": [
    {
     "data": {
      "text/plain": [
       "(909, 12)"
      ]
     },
     "execution_count": 29,
     "metadata": {},
     "output_type": "execute_result"
    }
   ],
   "source": [
    "combined_data.shape"
   ]
  },
  {
   "cell_type": "markdown",
   "id": "6ed524cf-3625-40a6-a5a1-53f417971a4b",
   "metadata": {},
   "source": [
    "# Model Training\n",
    "We are going to perform:\n",
    "1. Affinity Propagation\n",
    "2. KNN\n",
    "3. XGBoost\n",
    "4. Decision Tree"
   ]
  },
  {
   "cell_type": "markdown",
   "id": "0fbddf89-a750-4488-80e4-b5ab084f677a",
   "metadata": {},
   "source": [
    "# 1. Affinity Propagation"
   ]
  },
  {
   "cell_type": "code",
   "execution_count": 30,
   "id": "2e466532-66e9-48e3-bb3a-babe2d4bebb6",
   "metadata": {},
   "outputs": [
    {
     "name": "stdout",
     "output_type": "stream",
     "text": [
      "Silhouette Score: 0.3115962728777982\n",
      "Davies-Bouldin Index: 0.34884672610517\n"
     ]
    },
    {
     "name": "stderr",
     "output_type": "stream",
     "text": [
      "C:\\Users\\navee\\AppData\\Local\\Programs\\Python\\Python311\\Lib\\site-packages\\sklearn\\cluster\\_affinity_propagation.py:142: ConvergenceWarning: Affinity propagation did not converge, this model may return degenerate cluster centers and labels.\n",
      "  warnings.warn(\n"
     ]
    }
   ],
   "source": [
    "from sklearn.cluster import AffinityPropagation\n",
    "from sklearn.metrics import silhouette_score, davies_bouldin_score \n",
    "\n",
    "# Assuming 'combined_data' contains your combined data and 'fraud_reported' is your target variable\n",
    "X = combined_data\n",
    "y = combined_data['fraud_reported']\n",
    "\n",
    "# Create an Affinity Propagation model\n",
    "model_ap = AffinityPropagation()\n",
    "\n",
    "# Fit the model to your data\n",
    "model_ap.fit(X)\n",
    "\n",
    "# Get cluster assignments\n",
    "cluster_labels = model_ap.labels_\n",
    "\n",
    "# Evaluate the clustering using a clustering metric, such as silhouette score\n",
    "silhouette_score = silhouette_score(X, cluster_labels)\n",
    "davies_bouldin = davies_bouldin_score(X, cluster_labels)\n",
    "\n",
    "print(f\"Silhouette Score: {silhouette_score}\")\n",
    "print(f\"Davies-Bouldin Index: {davies_bouldin}\")\n"
   ]
  },
  {
   "cell_type": "markdown",
   "id": "58338a66-5721-4dee-870b-60374d3b4161",
   "metadata": {},
   "source": [
    "Silhouette Score (0.3659):\r\n",
    "1. Measures the quality of clusters produced by a clustering algorithm.\r\n",
    "2. Ranges from -1 to 1.\r\n",
    "3. A score close to 1 indicates well-separated and distinguishable clusters.\r\n",
    "4. A score close to 0 suggests overlapping clusters.\r\n",
    "5. The score of 0.3659 indicates that the clusters are somewhat distinguishable but not perfectly separated.\r\n",
    "\r\n",
    "Davies-Bouldin Index (0.6046):\r\n",
    "1. Measures the average similarity between clusters and their most similar neighbor cluster.\r\n",
    "2. Lower values are better, indicating more distinct clusters.\r\n",
    "3. A lower index suggests better cluster separation.\r\n",
    "4. The index of 0.6046 is below 1, indicating moderate cluster separation.\r\n",
    "proved results.eparation."
   ]
  },
  {
   "cell_type": "markdown",
   "id": "8a33a9c2-21aa-4c99-ae00-ecd20e2ccda8",
   "metadata": {},
   "source": [
    "# Splitting data into train, test"
   ]
  },
  {
   "cell_type": "code",
   "execution_count": 31,
   "id": "eb26b168-ad97-4c8e-8de0-b3e723db43a2",
   "metadata": {},
   "outputs": [],
   "source": [
    "from sklearn.model_selection import train_test_split\n",
    "\n",
    "X = combined_data.drop(columns=['fraud_reported'])\n",
    "y = combined_data['fraud_reported']\n",
    "\n",
    "X_train, X_test, y_train, y_test = train_test_split(X, y, test_size=0.2, random_state=42)\n"
   ]
  },
  {
   "cell_type": "markdown",
   "id": "40212d85-2047-4e6a-82ea-8178966b7028",
   "metadata": {},
   "source": [
    "# 2. K-Nearest Neighbors (KNN) Algorithm"
   ]
  },
  {
   "cell_type": "code",
   "execution_count": 32,
   "id": "0e6fe58a-3084-43db-b71c-1a4f4b741b8b",
   "metadata": {},
   "outputs": [
    {
     "name": "stdout",
     "output_type": "stream",
     "text": [
      "Accuracy: 0.6373626373626373\n",
      "Classification Report:\n",
      "               precision    recall  f1-score   support\n",
      "\n",
      "           0       0.69      0.88      0.77       128\n",
      "           1       0.17      0.06      0.08        54\n",
      "\n",
      "    accuracy                           0.64       182\n",
      "   macro avg       0.43      0.47      0.43       182\n",
      "weighted avg       0.53      0.64      0.57       182\n",
      "\n",
      "ROC AUC: 0.48900462962962954\n",
      "MAE: 0.3626373626373626\n",
      "MSE: 0.3626373626373626\n"
     ]
    }
   ],
   "source": [
    "from sklearn.neighbors import KNeighborsClassifier\n",
    "from sklearn.metrics import accuracy_score, classification_report\n",
    "from sklearn.metrics import roc_curve, roc_auc_score\n",
    "from sklearn.metrics import mean_absolute_error\n",
    "from sklearn.metrics import mean_squared_error\n",
    "\n",
    "# Create and train the KNN classifier\n",
    "knn = KNeighborsClassifier(n_neighbors=5) \n",
    "knn.fit(X_train, y_train)\n",
    "\n",
    "# Make predictions on the test set\n",
    "y_pred = knn.predict(X_test)\n",
    "y_prob = knn.predict_proba(X_test)[:, 1]  # Probability of positive class\n",
    "fpr, tpr, _ = roc_curve(y_test, y_prob)\n",
    "\n",
    "accuracy_knn = accuracy_score(y_test, y_pred)\n",
    "roc_auc_knn = roc_auc_score(y_test, y_prob)\n",
    "mae_knn = mean_absolute_error(y_test, y_pred)\n",
    "mse_knn = mean_squared_error(y_test, y_pred)\n",
    "classification_rep_knn = classification_report(y_test, y_pred)\n",
    "\n",
    "print(f\"Accuracy: {accuracy_knn}\")\n",
    "print(\"Classification Report:\\n\", classification_rep_knn)\n",
    "print(f\"ROC AUC: {roc_auc_knn}\")\n",
    "print(f\"MAE: {mae_knn}\")\n",
    "print(f\"MSE: {mse_knn}\")"
   ]
  },
  {
   "cell_type": "code",
   "execution_count": 33,
   "id": "1397524d-06aa-4847-a91c-1f52821d71eb",
   "metadata": {},
   "outputs": [
    {
     "name": "stdout",
     "output_type": "stream",
     "text": [
      "Accuracy: 0.6373626373626373\n",
      "Classification Report:\n",
      "               precision    recall  f1-score   support\n",
      "\n",
      "           0       0.69      0.88      0.77       128\n",
      "           1       0.17      0.06      0.08        54\n",
      "\n",
      "    accuracy                           0.64       182\n",
      "   macro avg       0.43      0.47      0.43       182\n",
      "weighted avg       0.53      0.64      0.57       182\n",
      "\n",
      "MAE: 0.3626373626373626\n",
      "MSE: 0.3626373626373626\n",
      "ROC AUC: 0.48900462962962954\n"
     ]
    }
   ],
   "source": [
    "from sklearn.neighbors import KNeighborsClassifier\n",
    "from sklearn.metrics import accuracy_score, classification_report, mean_absolute_error, mean_squared_error, roc_curve, roc_auc_score\n",
    "import numpy as np\n",
    "\n",
    "# Create and train the KNN classifier\n",
    "knn = KNeighborsClassifier(n_neighbors=5)\n",
    "knn.fit(X_train, y_train)\n",
    "\n",
    "# Make predictions on the test set\n",
    "y_pred = knn.predict(X_test)\n",
    "y_prob = knn.predict_proba(X_test)[:, 1]  # Probability of positive class\n",
    "\n",
    "# Calculate accuracy for classification\n",
    "accuracy = accuracy_score(y_test, y_pred)\n",
    "print(f\"Accuracy: {accuracy}\")\n",
    "\n",
    "# Calculate classification report\n",
    "classification_rep = classification_report(y_test, y_pred)\n",
    "print(\"Classification Report:\\n\", classification_rep)\n",
    "\n",
    "# Calculate MAE (Mean Absolute Error) for classification\n",
    "mae = mean_absolute_error(y_test, y_pred)\n",
    "print(f\"MAE: {mae}\")\n",
    "\n",
    "# Calculate MSE (Mean Squared Error) for classification\n",
    "mse = mean_squared_error(y_test, y_pred)\n",
    "print(f\"MSE: {mse}\")\n",
    "\n",
    "# Calculate ROC AUC (Receiver Operating Characteristic Area Under Curve)\n",
    "roc_auc = roc_auc_score(y_test, y_prob)\n",
    "print(f\"ROC AUC: {roc_auc}\")\n",
    "\n",
    "# Calculate ROC curve\n",
    "fpr, tpr, _ = roc_curve(y_test, y_prob)"
   ]
  },
  {
   "cell_type": "markdown",
   "id": "19e6c188-5bfa-460b-90c3-6f1c501c9f6d",
   "metadata": {},
   "source": [
    "# 3. XGBoost"
   ]
  },
  {
   "cell_type": "code",
   "execution_count": 34,
   "id": "e399fb19-0b48-4ebb-9589-84425fea5aa1",
   "metadata": {},
   "outputs": [
    {
     "name": "stdout",
     "output_type": "stream",
     "text": [
      "Accuracy: 0.6483516483516484\n",
      "Classification Report:\n",
      "               precision    recall  f1-score   support\n",
      "\n",
      "           0       0.72      0.81      0.76       128\n",
      "           1       0.37      0.26      0.30        54\n",
      "\n",
      "    accuracy                           0.65       182\n",
      "   macro avg       0.55      0.54      0.53       182\n",
      "weighted avg       0.62      0.65      0.63       182\n",
      "\n",
      "MAE: 0.3516483516483517\n",
      "MSE: 0.3516483516483517\n",
      "ROC AUC: 0.5541087962962962\n"
     ]
    }
   ],
   "source": [
    "from xgboost import XGBClassifier\n",
    "from sklearn.metrics import accuracy_score, classification_report, mean_absolute_error, mean_squared_error, roc_curve, roc_auc_score\n",
    "\n",
    "# Create and train the XGBoost classifier\n",
    "xgb = XGBClassifier()\n",
    "xgb.fit(X_train, y_train)\n",
    "\n",
    "# Make predictions on the test set\n",
    "y_pred = xgb.predict(X_test)\n",
    "y_prob = xgb.predict_proba(X_test)[:, 1]  # Probability of positive class\n",
    "\n",
    "# Calculate accuracy for classification\n",
    "accuracy_xg = accuracy_score(y_test, y_pred)\n",
    "print(f\"Accuracy: {accuracy_xg}\")\n",
    "\n",
    "# Calculate classification report\n",
    "classification_rep_xg = classification_report(y_test, y_pred)\n",
    "print(\"Classification Report:\\n\", classification_rep_xg)\n",
    "\n",
    "# Calculate MAE (Mean Absolute Error) for classification\n",
    "mae_xg = mean_absolute_error(y_test, y_pred)\n",
    "print(f\"MAE: {mae_xg}\")\n",
    "\n",
    "# Calculate MSE (Mean Squared Error) for classification\n",
    "mse_xg = mean_squared_error(y_test, y_pred)\n",
    "print(f\"MSE: {mse_xg}\")\n",
    "\n",
    "# Calculate ROC AUC (Receiver Operating Characteristic Area Under Curve)\n",
    "roc_auc_xg = roc_auc_score(y_test, y_prob)\n",
    "print(f\"ROC AUC: {roc_auc_xg}\")\n",
    "\n"
   ]
  },
  {
   "cell_type": "code",
   "execution_count": 35,
   "id": "0433b05c-724f-41e5-8184-5c1cddf04f87",
   "metadata": {},
   "outputs": [
    {
     "name": "stdout",
     "output_type": "stream",
     "text": [
      "Fold 1 Accuracy: 0.7054794520547946\n",
      "Fold 2 Accuracy: 0.6506849315068494\n",
      "Fold 3 Accuracy: 0.6413793103448275\n",
      "Fold 4 Accuracy: 0.6689655172413793\n",
      "Fold 5 Accuracy: 0.7172413793103448\n",
      "Mean Accuracy: 0.6767501180916391\n",
      "Standard Deviation: 0.02985298935720727\n"
     ]
    }
   ],
   "source": [
    "from sklearn.model_selection import cross_val_score\n",
    "# Perform cross-validation\n",
    "scores = cross_val_score(xgb, X_train, y_train, cv=5)  # cv=5 for 5-fold cross-validation\n",
    "\n",
    "# Print the accuracy scores for each fold\n",
    "for i, score in enumerate(scores):\n",
    "    print(f\"Fold {i + 1} Accuracy: {score}\")\n",
    "\n",
    "# Calculate the mean and standard deviation of the scores\n",
    "mean_accuracy = scores.mean()\n",
    "std_accuracy = scores.std()\n",
    "\n",
    "print(f\"Mean Accuracy: {mean_accuracy}\")\n",
    "print(f\"Standard Deviation: {std_accuracy}\")"
   ]
  },
  {
   "cell_type": "markdown",
   "id": "8f604097-ec87-404c-8169-a998cb1296d4",
   "metadata": {},
   "source": [
    "# 4. Decision Tree"
   ]
  },
  {
   "cell_type": "code",
   "execution_count": 36,
   "id": "93607e4a-f3ad-416b-8648-5c3808474cdd",
   "metadata": {},
   "outputs": [
    {
     "name": "stdout",
     "output_type": "stream",
     "text": [
      "Accuracy: 0.6263736263736264\n",
      "Classification Report:\n",
      "               precision    recall  f1-score   support\n",
      "\n",
      "           0       0.73      0.73      0.73       128\n",
      "           1       0.37      0.37      0.37        54\n",
      "\n",
      "    accuracy                           0.63       182\n",
      "   macro avg       0.55      0.55      0.55       182\n",
      "weighted avg       0.63      0.63      0.63       182\n",
      "\n",
      "MAE: 0.37362637362637363\n",
      "MSE: 0.37362637362637363\n",
      "ROC AUC: 0.5523726851851851\n"
     ]
    }
   ],
   "source": [
    "from sklearn.tree import DecisionTreeClassifier\n",
    "from sklearn.metrics import accuracy_score, classification_report, mean_absolute_error, mean_squared_error, roc_curve, roc_auc_score\n",
    "\n",
    "# Create and train the Decision Tree classifier\n",
    "dt_classifier = DecisionTreeClassifier()\n",
    "dt_classifier.fit(X_train, y_train)\n",
    "\n",
    "# Make predictions on the test set\n",
    "y_pred = dt_classifier.predict(X_test)\n",
    "y_prob = dt_classifier.predict_proba(X_test)[:, 1]  # Probability of positive class\n",
    "\n",
    "# Calculate accuracy for classification\n",
    "accuracy_dt = accuracy_score(y_test, y_pred)\n",
    "print(f\"Accuracy: {accuracy_dt}\")\n",
    "\n",
    "# Calculate classification report\n",
    "classification_rep_dt = classification_report(y_test, y_pred)\n",
    "print(\"Classification Report:\\n\", classification_rep_dt)\n",
    "\n",
    "# Calculate MAE (Mean Absolute Error) for classification\n",
    "mae_dt = mean_absolute_error(y_test, y_pred)\n",
    "print(f\"MAE: {mae_dt}\")\n",
    "\n",
    "# Calculate MSE (Mean Squared Error) for classification\n",
    "mse_dt = mean_squared_error(y_test, y_pred)\n",
    "print(f\"MSE: {mse_dt}\")\n",
    "\n",
    "# Calculate ROC AUC (Receiver Operating Characteristic Area Under Curve)\n",
    "roc_auc_dt = roc_auc_score(y_test, y_prob)\n",
    "print(f\"ROC AUC: {roc_auc_dt}\")\n",
    "\n",
    "# Calculate ROC curve\n",
    "fpr, tpr, _ = roc_curve(y_test, y_prob)"
   ]
  },
  {
   "cell_type": "code",
   "execution_count": 37,
   "id": "2e29fd5f-cb9d-495c-9a87-f4fd64b13c69",
   "metadata": {},
   "outputs": [
    {
     "name": "stdout",
     "output_type": "stream",
     "text": [
      "Fitting 5 folds for each of 512 candidates, totalling 2560 fits\n"
     ]
    },
    {
     "data": {
      "text/html": [
       "<style>#sk-container-id-1 {color: black;}#sk-container-id-1 pre{padding: 0;}#sk-container-id-1 div.sk-toggleable {background-color: white;}#sk-container-id-1 label.sk-toggleable__label {cursor: pointer;display: block;width: 100%;margin-bottom: 0;padding: 0.3em;box-sizing: border-box;text-align: center;}#sk-container-id-1 label.sk-toggleable__label-arrow:before {content: \"▸\";float: left;margin-right: 0.25em;color: #696969;}#sk-container-id-1 label.sk-toggleable__label-arrow:hover:before {color: black;}#sk-container-id-1 div.sk-estimator:hover label.sk-toggleable__label-arrow:before {color: black;}#sk-container-id-1 div.sk-toggleable__content {max-height: 0;max-width: 0;overflow: hidden;text-align: left;background-color: #f0f8ff;}#sk-container-id-1 div.sk-toggleable__content pre {margin: 0.2em;color: black;border-radius: 0.25em;background-color: #f0f8ff;}#sk-container-id-1 input.sk-toggleable__control:checked~div.sk-toggleable__content {max-height: 200px;max-width: 100%;overflow: auto;}#sk-container-id-1 input.sk-toggleable__control:checked~label.sk-toggleable__label-arrow:before {content: \"▾\";}#sk-container-id-1 div.sk-estimator input.sk-toggleable__control:checked~label.sk-toggleable__label {background-color: #d4ebff;}#sk-container-id-1 div.sk-label input.sk-toggleable__control:checked~label.sk-toggleable__label {background-color: #d4ebff;}#sk-container-id-1 input.sk-hidden--visually {border: 0;clip: rect(1px 1px 1px 1px);clip: rect(1px, 1px, 1px, 1px);height: 1px;margin: -1px;overflow: hidden;padding: 0;position: absolute;width: 1px;}#sk-container-id-1 div.sk-estimator {font-family: monospace;background-color: #f0f8ff;border: 1px dotted black;border-radius: 0.25em;box-sizing: border-box;margin-bottom: 0.5em;}#sk-container-id-1 div.sk-estimator:hover {background-color: #d4ebff;}#sk-container-id-1 div.sk-parallel-item::after {content: \"\";width: 100%;border-bottom: 1px solid gray;flex-grow: 1;}#sk-container-id-1 div.sk-label:hover label.sk-toggleable__label {background-color: #d4ebff;}#sk-container-id-1 div.sk-serial::before {content: \"\";position: absolute;border-left: 1px solid gray;box-sizing: border-box;top: 0;bottom: 0;left: 50%;z-index: 0;}#sk-container-id-1 div.sk-serial {display: flex;flex-direction: column;align-items: center;background-color: white;padding-right: 0.2em;padding-left: 0.2em;position: relative;}#sk-container-id-1 div.sk-item {position: relative;z-index: 1;}#sk-container-id-1 div.sk-parallel {display: flex;align-items: stretch;justify-content: center;background-color: white;position: relative;}#sk-container-id-1 div.sk-item::before, #sk-container-id-1 div.sk-parallel-item::before {content: \"\";position: absolute;border-left: 1px solid gray;box-sizing: border-box;top: 0;bottom: 0;left: 50%;z-index: -1;}#sk-container-id-1 div.sk-parallel-item {display: flex;flex-direction: column;z-index: 1;position: relative;background-color: white;}#sk-container-id-1 div.sk-parallel-item:first-child::after {align-self: flex-end;width: 50%;}#sk-container-id-1 div.sk-parallel-item:last-child::after {align-self: flex-start;width: 50%;}#sk-container-id-1 div.sk-parallel-item:only-child::after {width: 0;}#sk-container-id-1 div.sk-dashed-wrapped {border: 1px dashed gray;margin: 0 0.4em 0.5em 0.4em;box-sizing: border-box;padding-bottom: 0.4em;background-color: white;}#sk-container-id-1 div.sk-label label {font-family: monospace;font-weight: bold;display: inline-block;line-height: 1.2em;}#sk-container-id-1 div.sk-label-container {text-align: center;}#sk-container-id-1 div.sk-container {/* jupyter's `normalize.less` sets `[hidden] { display: none; }` but bootstrap.min.css set `[hidden] { display: none !important; }` so we also need the `!important` here to be able to override the default hidden behavior on the sphinx rendered scikit-learn.org. See: https://github.com/scikit-learn/scikit-learn/issues/21755 */display: inline-block !important;position: relative;}#sk-container-id-1 div.sk-text-repr-fallback {display: none;}</style><div id=\"sk-container-id-1\" class=\"sk-top-container\"><div class=\"sk-text-repr-fallback\"><pre>GridSearchCV(cv=5, estimator=DecisionTreeClassifier(), n_jobs=-1,\n",
       "             param_grid={&#x27;criterion&#x27;: [&#x27;gini&#x27;, &#x27;entropy&#x27;],\n",
       "                         &#x27;max_depth&#x27;: [3, 5, 7, 10],\n",
       "                         &#x27;min_samples_leaf&#x27;: range(2, 10),\n",
       "                         &#x27;min_samples_split&#x27;: range(2, 10)},\n",
       "             verbose=1)</pre><b>In a Jupyter environment, please rerun this cell to show the HTML representation or trust the notebook. <br />On GitHub, the HTML representation is unable to render, please try loading this page with nbviewer.org.</b></div><div class=\"sk-container\" hidden><div class=\"sk-item sk-dashed-wrapped\"><div class=\"sk-label-container\"><div class=\"sk-label sk-toggleable\"><input class=\"sk-toggleable__control sk-hidden--visually\" id=\"sk-estimator-id-1\" type=\"checkbox\" ><label for=\"sk-estimator-id-1\" class=\"sk-toggleable__label sk-toggleable__label-arrow\">GridSearchCV</label><div class=\"sk-toggleable__content\"><pre>GridSearchCV(cv=5, estimator=DecisionTreeClassifier(), n_jobs=-1,\n",
       "             param_grid={&#x27;criterion&#x27;: [&#x27;gini&#x27;, &#x27;entropy&#x27;],\n",
       "                         &#x27;max_depth&#x27;: [3, 5, 7, 10],\n",
       "                         &#x27;min_samples_leaf&#x27;: range(2, 10),\n",
       "                         &#x27;min_samples_split&#x27;: range(2, 10)},\n",
       "             verbose=1)</pre></div></div></div><div class=\"sk-parallel\"><div class=\"sk-parallel-item\"><div class=\"sk-item\"><div class=\"sk-label-container\"><div class=\"sk-label sk-toggleable\"><input class=\"sk-toggleable__control sk-hidden--visually\" id=\"sk-estimator-id-2\" type=\"checkbox\" ><label for=\"sk-estimator-id-2\" class=\"sk-toggleable__label sk-toggleable__label-arrow\">estimator: DecisionTreeClassifier</label><div class=\"sk-toggleable__content\"><pre>DecisionTreeClassifier()</pre></div></div></div><div class=\"sk-serial\"><div class=\"sk-item\"><div class=\"sk-estimator sk-toggleable\"><input class=\"sk-toggleable__control sk-hidden--visually\" id=\"sk-estimator-id-3\" type=\"checkbox\" ><label for=\"sk-estimator-id-3\" class=\"sk-toggleable__label sk-toggleable__label-arrow\">DecisionTreeClassifier</label><div class=\"sk-toggleable__content\"><pre>DecisionTreeClassifier()</pre></div></div></div></div></div></div></div></div></div></div>"
      ],
      "text/plain": [
       "GridSearchCV(cv=5, estimator=DecisionTreeClassifier(), n_jobs=-1,\n",
       "             param_grid={'criterion': ['gini', 'entropy'],\n",
       "                         'max_depth': [3, 5, 7, 10],\n",
       "                         'min_samples_leaf': range(2, 10),\n",
       "                         'min_samples_split': range(2, 10)},\n",
       "             verbose=1)"
      ]
     },
     "execution_count": 37,
     "metadata": {},
     "output_type": "execute_result"
    }
   ],
   "source": [
    "from sklearn.model_selection import GridSearchCV  \n",
    "  \n",
    "params_grid = {  \n",
    "    'criterion' : ['gini', 'entropy'],  \n",
    "    'max_depth' : [3, 5, 7, 10],  \n",
    "    'min_samples_split' : range(2, 10, 1),  \n",
    "    'min_samples_leaf' : range(2, 10, 1)  \n",
    "}  \n",
    "  \n",
    "search_grid = GridSearchCV(dt_classifier, params_grid, cv = 5, n_jobs = -1, verbose = 1)  \n",
    "search_grid.fit(X_train, y_train)"
   ]
  },
  {
   "cell_type": "code",
   "execution_count": 38,
   "id": "1c27f3e5-42d3-472c-8185-c7bc805fbcdd",
   "metadata": {},
   "outputs": [
    {
     "name": "stdout",
     "output_type": "stream",
     "text": [
      "{'criterion': 'gini', 'max_depth': 3, 'min_samples_leaf': 2, 'min_samples_split': 8}\n",
      "0.7469248937175248\n"
     ]
    }
   ],
   "source": [
    "# best parameters and the best score  \n",
    "  \n",
    "print(search_grid.best_params_)  \n",
    "print(search_grid.best_score_)"
   ]
  },
  {
   "cell_type": "code",
   "execution_count": 39,
   "id": "85715e69-9e12-45d1-ac08-c650a27e14d5",
   "metadata": {},
   "outputs": [
    {
     "name": "stdout",
     "output_type": "stream",
     "text": [
      "Training accuracy of Decision Tree is: 0.7537826685006878\n",
      "Test accuracy of Decision Tree is: 0.6978021978021978\n",
      "[[125   3]\n",
      " [ 52   2]]\n",
      "              precision    recall  f1-score   support\n",
      "\n",
      "           0       0.71      0.98      0.82       128\n",
      "           1       0.40      0.04      0.07        54\n",
      "\n",
      "    accuracy                           0.70       182\n",
      "   macro avg       0.55      0.51      0.44       182\n",
      "weighted avg       0.62      0.70      0.60       182\n",
      "\n"
     ]
    }
   ],
   "source": [
    "# Best estimator\n",
    "dt = search_grid.best_estimator_\n",
    "\n",
    "y_pred = dt.predict(X_test)\n",
    "\n",
    "# Import necessary libraries\n",
    "from sklearn.metrics import accuracy_score, confusion_matrix, classification_report\n",
    "\n",
    "# Calculate accuracy scores\n",
    "acc_dt_train = accuracy_score(y_train, dt.predict(X_train))\n",
    "acc_dt_test = accuracy_score(y_test, y_pred)\n",
    "\n",
    "# Print accuracy scores\n",
    "print(f\"Training accuracy of Decision Tree is: {acc_dt_train}\")\n",
    "print(f\"Test accuracy of Decision Tree is: {acc_dt_test}\")\n",
    "\n",
    "# Print confusion matrix\n",
    "print(confusion_matrix(y_test, y_pred))\n",
    "\n",
    "# Print classification report\n",
    "print(classification_report(y_test, y_pred))\n"
   ]
  },
  {
   "cell_type": "code",
   "execution_count": 40,
   "id": "0edefd5c-db39-49fc-8232-665b51449275",
   "metadata": {},
   "outputs": [],
   "source": [
    "# # histograms\n",
    "# #pyod\n",
    "# roc \n",
    "# mae\n",
    "# mse\n",
    "# accuracy\n",
    "# precision'recall f1\n",
    "# pickle to save best model\n",
    "# deploy in streamlit or pannel"
   ]
  },
  {
   "cell_type": "code",
   "execution_count": 41,
   "id": "343095ab-2308-4a74-8c96-8b24c6291fc3",
   "metadata": {},
   "outputs": [
    {
     "name": "stderr",
     "output_type": "stream",
     "text": [
      "C:\\Users\\navee\\AppData\\Local\\Programs\\Python\\Python311\\Lib\\site-packages\\pyod\\models\\base.py:430: UserWarning: y should not be presented in unsupervised learning.\n",
      "  warnings.warn(\n",
      "C:\\Users\\navee\\AppData\\Local\\Programs\\Python\\Python311\\Lib\\site-packages\\pyod\\models\\base.py:430: UserWarning: y should not be presented in unsupervised learning.\n",
      "  warnings.warn(\n",
      "C:\\Users\\navee\\AppData\\Local\\Programs\\Python\\Python311\\Lib\\site-packages\\xgboost\\core.py:160: UserWarning: [18:56:33] WARNING: C:\\buildkite-agent\\builds\\buildkite-windows-cpu-autoscaling-group-i-07f6e447eee219473-1\\xgboost\\xgboost-ci-windows\\src\\learner.cc:742: \n",
      "Parameters: { \"silent\" } are not used.\n",
      "\n",
      "  warnings.warn(smsg, UserWarning)\n"
     ]
    },
    {
     "name": "stdout",
     "output_type": "stream",
     "text": [
      "KNN Model:\n",
      "KNN ROC:0.5019, precision @ rank n:0.3077\n",
      "\n",
      "XGBOD Model:\n",
      "XGBOD ROC:0.4727, precision @ rank n:0.0\n"
     ]
    }
   ],
   "source": [
    "from pyod.models.knn import KNN\n",
    "from pyod.models.xgbod import XGBOD\n",
    "# from pyod.models.decision_tree import DecisionTree\n",
    "from pyod.utils.data import evaluate_print\n",
    "\n",
    "# Create and train the KNN model from PyOD\n",
    "knn_model = KNN(n_neighbors=5)\n",
    "knn_model.fit(X_train,y_train)\n",
    "\n",
    "# Create and train the XGBOD model from PyOD\n",
    "xgbod_model = XGBOD()\n",
    "xgbod_model.fit(X_train,y_train)\n",
    "\n",
    "# Create and train the Decision Tree model from PyOD\n",
    "# dt_model = DecisionTree()\n",
    "# dt_model.fit(X_train)\n",
    "\n",
    "\n",
    "# Predict outliers on the test set for each model\n",
    "knn_y_pred = knn_model.predict(X_test)\n",
    "xgbod_y_pred = xgbod_model.predict(X_test)\n",
    "# dt_y_pred = dt_model.predict(X_test)\n",
    "\n",
    "# Evaluate and print the results for each model\n",
    "print(\"KNN Model:\")\n",
    "evaluate_print(\"KNN\", y_test, knn_y_pred)\n",
    "\n",
    "print(\"\\nXGBOD Model:\")\n",
    "evaluate_print(\"XGBOD\", y_test, xgbod_y_pred)\n",
    "\n",
    "# print(\"\\Decision Tree Model:\")\n",
    "# evaluate_print(\"Decision Tree Model\", y_test, dt_y_pred)\n"
   ]
  },
  {
   "cell_type": "code",
   "execution_count": 42,
   "id": "c805b1d5-ddd5-41d5-9d54-7cee6fc5f88b",
   "metadata": {},
   "outputs": [
    {
     "data": {
      "image/png": "[encoded data removed]",
      "text/plain": [
       "<Figure size 1200x1000 with 4 Axes>"
      ]
     },
     "metadata": {},
     "output_type": "display_data"
    }
   ],
   "source": [
    "import matplotlib.pyplot as plt\n",
    "import numpy as np\n",
    "\n",
    "# Define the models and their corresponding metric scores\n",
    "models = ['KNN', 'XGBoost', 'Decision Tree']\n",
    "metrics = ['Accuracy', 'MSE', 'MAE', 'ROC AUC']\n",
    "\n",
    "# Replace the following lists with your actual metric scores for each model\n",
    "# For example, create lists like accuracy_scores, mse_scores, etc.\n",
    "accuracy_scores = [accuracy_knn, accuracy_xg, accuracy_dt]  # Replace with actual accuracy scores\n",
    "mse_scores = [mse_knn, mse_xg, mse_dt]  # Replace with actual MSE scores\n",
    "mae_scores = [mae_knn, mae_xg, mae_dt]  # Replace with actual MAE scores\n",
    "roc_auc_scores = [roc_auc_knn, roc_auc_xg, roc_auc_dt]  # Replace with actual ROC AUC scores\n",
    "\n",
    "# Create subplots for each metric\n",
    "fig, axs = plt.subplots(2, 2, figsize=(12, 10))\n",
    "\n",
    "# Plot accuracy\n",
    "axs[0, 0].bar(models, accuracy_scores)\n",
    "axs[0, 0].set_title('Accuracy')\n",
    "axs[0, 0].set_ylim(0, 1)\n",
    "\n",
    "# Plot MSE\n",
    "axs[0, 1].bar(models, mse_scores, color='red')\n",
    "axs[0, 1].set_title('MSE')\n",
    "\n",
    "# Plot MAE\n",
    "axs[1, 0].bar(models, mae_scores, color='green')\n",
    "axs[1, 0].set_title('MAE')\n",
    "\n",
    "# Plot ROC AUC\n",
    "axs[1, 1].bar(models, roc_auc_scores, color='purple')\n",
    "axs[1, 1].set_title('ROC AUC')\n",
    "axs[1, 1].set_ylim(0, 1)\n",
    "\n",
    "# Adjust spacing between subplots\n",
    "plt.tight_layout()\n",
    "\n",
    "# Show the plots\n",
    "plt.show()\n"
   ]
  }
 ],
 "metadata": {
  "kernelspec": {
   "display_name": "Python 3 (ipykernel)",
   "language": "python",
   "name": "python3"
  },
  "language_info": {
   "codemirror_mode": {
    "name": "ipython",
    "version": 3
   },
   "file_extension": ".py",
   "mimetype": "text/x-python",
   "name": "python",
   "nbconvert_exporter": "python",
   "pygments_lexer": "ipython3",
   "version": "3.11.6"
  }
 },
 "nbformat": 4,
 "nbformat_minor": 5
}
